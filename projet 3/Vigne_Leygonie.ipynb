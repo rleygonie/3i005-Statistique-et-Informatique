{
 "cells": [
  {
   "cell_type": "markdown",
   "metadata": {},
   "source": [
    "# Projet 3 : Analyse de séquences génomiques\n",
    "# 2 Préliminaires : données et lecture des fichier\n",
    "## 2.1 - 2.2 : Code fourni"
   ]
  },
  {
   "cell_type": "code",
   "execution_count": 1,
   "metadata": {},
   "outputs": [],
   "source": [
    "import io\n",
    "import math\n",
    "import numpy as np\n",
    "import matplotlib.pyplot as plt\n",
    "import random\n",
    "\n",
    "#Définition des nucléotides\n",
    "nucleotide = {'A':0,'C':1,'G':2,'T':3}\n",
    "nucleotide_indetermine = {'A':0,'C':1,'G':2,'T':3,'N':-1}\n",
    "\n",
    "def decode_sequence(sequence):\n",
    "    inv_nucleotide = {v:k for k, v in nucleotide_indetermine.items()}\n",
    "    to_str = \"\"\n",
    "    for i in sequence:\n",
    "        if(i in inv_nucleotide):\n",
    "            to_str += inv_nucleotide[i]\n",
    "        else:\n",
    "            to_str += 'N'\n",
    "    return to_str\n",
    "    \n",
    "\n",
    "def encode_sequence(string):\n",
    "    to_list = []\n",
    "    for base in string:\n",
    "        if(base in nucleotide_indetermine):\n",
    "            to_list.append(nucleotide_indetermine[base])\n",
    "    return to_list\n",
    "\n",
    "def read_fasta(fasta_filepath):\n",
    "    fasta_file = io.open(fasta_filepath, 'r')\n",
    "    current_sequence = \"\"\n",
    "    sequences_dict = {}\n",
    "    for line in fasta_file.readlines():\n",
    "        if(line[0] == '>'):\n",
    "            current_sequence = line\n",
    "            sequences_dict[line] = []\n",
    "        else:\n",
    "            for nucl in line:\n",
    "                if(nucl in nucleotide_indetermine):\n",
    "                    sequences_dict[current_sequence].append((int) (nucleotide_indetermine[nucl]))\n",
    "\n",
    "    return sequences_dict\n",
    "    \n",
    "def nucleotide_count(sequence):\n",
    "    count = [0 for k in nucleotide]\n",
    "    for nucl in sequence:\n",
    "        if(nucl >= 0):\n",
    "            count[nucl] += 1\n",
    "    return count\n",
    "\n",
    "def nucleotide_frequency(sequence):\n",
    "    count = [0 for k in nucleotide]\n",
    "    n_nucl = 0.\n",
    "    for nucl in sequence:\n",
    "        if(nucl >= 0):\n",
    "            count[nucl] += 1\n",
    "            n_nucl += 1.\n",
    "    return count/(np.sum(count))\n"
   ]
  },
  {
   "cell_type": "markdown",
   "metadata": {},
   "source": [
    "## 2.3 - 2.4 : "
   ]
  },
  {
   "cell_type": "code",
   "execution_count": 2,
   "metadata": {},
   "outputs": [],
   "source": [
    "def logproba(liste_entiers,m):\n",
    "    total = 0\n",
    "    for lettre in liste_entiers:\n",
    "        total+= math.log(m[lettre])\n",
    "    return total\n",
    "\n",
    "def logprobafast(m):\n",
    "    summ = sum(m)\n",
    "    tmp = [i / summ for i in m]\n",
    "    return sum([math.log(tmp[i])*m[i] for i in range(len(m))])\n",
    "    # Pour chaque tpye de nucléotide, on calcule sa proba et on la multiplie par son nombre d'occurences\n",
    "    # On fait ensuite la somme des logprobas de chaque type de nucléotide\n",
    "  "
   ]
  },
  {
   "cell_type": "markdown",
   "metadata": {},
   "source": [
    "# 3 Annotation des régions promoteurs\n",
    "## 3.1 Description empirique, préliminaires\n",
    "### 3.1.1 : "
   ]
  },
  {
   "cell_type": "code",
   "execution_count": 3,
   "metadata": {},
   "outputs": [],
   "source": [
    "def code(m,k):\n",
    "    \"\"\"\n",
    "    La première lettre d'une séquence de taille k a un poids de 4^k\n",
    "    La suivante a un poids de 4^(k-1) le résultat est somme(lettres*poids)\n",
    "    \"\"\"\n",
    "    i = k-1\n",
    "    res = 0\n",
    "    for lettre in m:\n",
    "        res += lettre * (4 ** i)\n",
    "        i -= 1\n",
    "    return res\n",
    "    \n",
    "def inverse_code(i,k):\n",
    "    res = []\n",
    "    for ind in range(k-1,-1,-1):\n",
    "        res.append(i // (4**ind))\n",
    "        i = i % (4**ind)\n",
    "    return res\n",
    "    \n",
    "def compte_occurences_mots(sequence,taille):\n",
    "    resTmp = dict()\n",
    "    for i in range(len(sequence)-taille+1): \n",
    "        # Pour chaque emplacement du début de la séquence au dernier emplacement disponible pour placer un mot de taille 'taille'\n",
    "        sousSeq = code(sequence[i:i+taille],taille)\n",
    "        # On isole le mot sans sousSeq puis on actualise le dictionnaire\n",
    "        if not sousSeq in resTmp.keys():\n",
    "            resTmp[sousSeq] = 1\n",
    "        else:\n",
    "            resTmp[sousSeq] += 1 \n",
    "    res = dict()\n",
    "    # Les clés du dictionnaire sont les codes des séquences, on déplace donc les valeurs dans un dictionnaire\n",
    "    # contenant les clés sous forme de séquences de nucléotides (ex : \"AT\",\"TCGA\")\n",
    "    for k in resTmp.keys():\n",
    "        lTmp = inverse_code(k,taille)\n",
    "        buff = decode_sequence(lTmp)\n",
    "        res[buff] = resTmp[k]\n",
    "    return res"
   ]
  },
  {
   "cell_type": "markdown",
   "metadata": {},
   "source": [
    "### 3.1.2"
   ]
  },
  {
   "cell_type": "code",
   "execution_count": 4,
   "metadata": {},
   "outputs": [],
   "source": [
    "def comptage_attendu(freq,taille,longueur):\n",
    "    res = dict()\n",
    "    # Pour chaque mot de longueur 'taille' disponible dans un alphabet de 4 lettres \n",
    "    for i in range(4**taille):\n",
    "        resTmp = 1.0\n",
    "        tmp1 = i\n",
    "        for j in range(taille-1,0-1,-1):\n",
    "            tmp2 = tmp1%4\n",
    "            tmp1 = tmp1//(4**j)\n",
    "            resTmp = resTmp * freq[tmp2]\n",
    "            # On calcule la probabilité du  mot \n",
    "        buff = decode_sequence(inverse_code(i,taille))\n",
    "        res[buff] = resTmp * (longueur - taille +1)\n",
    "        # On ajoute cette probabilité dans un dictionnaire construit comme le précédent\n",
    "    return res"
   ]
  },
  {
   "cell_type": "markdown",
   "metadata": {},
   "source": [
    "### 3.1.3"
   ]
  },
  {
   "cell_type": "code",
   "execution_count": 5,
   "metadata": {},
   "outputs": [],
   "source": [
    "def affGraph2D(sequence,taille):\n",
    "    nb_attendu = comptage_attendu( nucleotide_frequency(sequence) , taille, len(sequence)) \n",
    "    nb_obtenu =  compte_occurences_mots(sequence,taille)\n",
    "    \n",
    "    listeEtt = []\n",
    "    listeAbs = []\n",
    "    listeOrd = []\n",
    "    for i in nb_attendu.keys():\n",
    "        if i in nb_obtenu.keys():\n",
    "            listeAbs.append(nb_obtenu[i])\n",
    "        else:\n",
    "            listeAbs.append(0)\n",
    "        listeOrd.append(nb_attendu[i])\n",
    "        listeEtt.append([i,listeAbs[-1],listeOrd[-1]])\n",
    "        \n",
    "        \n",
    "    listeTruc = range(max(0,(int) (min(listeOrd)-5)),(int) (max(listeOrd)+5))\n",
    "    plt.plot(listeTruc,listeTruc)\n",
    "    \n",
    "    plt.scatter(listeAbs,listeOrd)\n",
    "    for i in listeEtt:\n",
    "        plt.annotate(i[0],(i[1],i[2]))\n",
    "    plt.show()\n",
    "    print(\"A gauche : sous représenté \\nA droite : sur représenté\")\n",
    "    \n",
    "def affFichier(file,taille):\n",
    "    l = []\n",
    "    for v in read_fasta(file).values():\n",
    "        l+=v\n",
    "    affGraph2D(l,taille)\n"
   ]
  },
  {
   "cell_type": "markdown",
   "metadata": {},
   "source": [
    "décrire ici comment on s'y prend"
   ]
  },
  {
   "cell_type": "code",
   "execution_count": 16,
   "metadata": {},
   "outputs": [
    {
     "data": {
      "image/png": "[encoded data removed]",
      "text/plain": [
       "<Figure size 432x288 with 1 Axes>"
      ]
     },
     "metadata": {},
     "output_type": "display_data"
    },
    {
     "name": "stdout",
     "output_type": "stream",
     "text": [
      "A gauche : sous représenté \n",
      "A droite : sur représenté\n"
     ]
    }
   ],
   "source": [
    "affFichier('regulatory_seq_PHO.fasta',2)"
   ]
  },
  {
   "cell_type": "markdown",
   "metadata": {},
   "source": [
    "## 3.2 Simulation de séquences aléatoires\n",
    "### 3.2.1"
   ]
  },
  {
   "cell_type": "code",
   "execution_count": 7,
   "metadata": {},
   "outputs": [],
   "source": [
    "def simule_sequence(lg,m):\n",
    "    res = []\n",
    "    for i in range(lg):\n",
    "        r = random.random()\n",
    "        # en python, le cast en entier d'un booleen est 0 ou 1, cette ligne permet de générer un nombre entre 0 et 3 \n",
    "        # en respectant les probabilités imposées\n",
    "        res.append((int)(r >= m[0]) +(int)(r >= m[0]+m[1]) +(int)(r >= m[0]+m[1]+m[2]))\n",
    "    return res"
   ]
  },
  {
   "cell_type": "markdown",
   "metadata": {},
   "source": [
    "### 3.2.2"
   ]
  },
  {
   "cell_type": "code",
   "execution_count": 8,
   "metadata": {},
   "outputs": [
    {
     "name": "stdout",
     "output_type": "stream",
     "text": [
      "10.32365492567934\n"
     ]
    }
   ],
   "source": [
    "moy_ecarts = 0\n",
    "for i in range(1000):\n",
    "    freq = []\n",
    "    for i in range(4):\n",
    "        freq.append(random.random()+0.1)\n",
    "    sumfreq = sum(freq)\n",
    "    for i in range(4):\n",
    "        freq[i] /= sumfreq\n",
    "    simul = compte_occurences_mots(simule_sequence(1000,freq),1)\n",
    "    attendu = comptage_attendu(freq,1,1000)\n",
    "    dic = [\"A\",\"C\",\"G\",\"T\"]\n",
    "    a = [abs(simul[i] - attendu[i]) for i in dic]\n",
    "    moy_ecarts+=sum(a)\n",
    "print(moy_ecarts/4000)\n",
    "       \n",
    "    "
   ]
  },
  {
   "cell_type": "markdown",
   "metadata": {},
   "source": [
    "### 3.2.3"
   ]
  },
  {
   "cell_type": "code",
   "execution_count": 9,
   "metadata": {},
   "outputs": [],
   "source": [
    "def estimProbaEmpirique(longueur,mot,n=1):\n",
    "    cpt = 0\n",
    "    nb = 1000\n",
    "    motConverti = encode_sequence(mot)\n",
    "    if len(motConverti) > longueur:\n",
    "        print('mot recherché trop long')\n",
    "        return \n",
    "    for i in range(nb):\n",
    "        freq = []\n",
    "        for i in range(4):\n",
    "            freq.append(random.random())\n",
    "        sumfreq = sum(freq)\n",
    "        for i in range(4):\n",
    "            freq[i] /= sumfreq\n",
    "        dico = compte_occurences_mots(simule_sequence(longueur,freq),len(motConverti))\n",
    "        if not mot in dico.keys():\n",
    "            continue\n",
    "        elif dico[mot] >= n:\n",
    "            cpt+=1\n",
    "    return cpt/nb"
   ]
  },
  {
   "cell_type": "markdown",
   "metadata": {},
   "source": [
    "### 3.2.4"
   ]
  },
  {
   "cell_type": "code",
   "execution_count": 41,
   "metadata": {},
   "outputs": [
    {
     "data": {
      "image/png": "[encoded data removed]",
      "text/plain": [
       "<Figure size 432x288 with 1 Axes>"
      ]
     },
     "metadata": {},
     "output_type": "display_data"
    },
    {
     "name": "stdout",
     "output_type": "stream",
     "text": [
      "199.37507510185242\n"
     ]
    }
   ],
   "source": [
    "def histo(listeMots,n=10):\n",
    "    plt.subplot()\n",
    "    for i in listeMots:\n",
    "        listeHisto = []\n",
    "        for j in range(1,n+1):\n",
    "            listeHisto.append(estimProbaEmpirique(1000,i,j)) \n",
    "        plt.plot(range(1,n+1),listeHisto)\n",
    "    plt.title(listeMots)\n",
    "    plt.show()\n",
    "    return\n",
    "import time\n",
    "temps = time.time()\n",
    "histo([\"ATCTGC\",\"ATATAT\",\"TTTAAA\",\"AAAAAA\"])\n",
    "print(time.time() - temps)"
   ]
  },
  {
   "cell_type": "markdown",
   "metadata": {},
   "source": [
    "### 3.2.5\n",
    "Répondre ici"
   ]
  },
  {
   "cell_type": "markdown",
   "metadata": {},
   "source": [
    "## 3.3 Modèles de dinucléotides et trinucléotides\n",
    "### 3.3.1\n",
    "Répondre ici\n",
    "\n",
    "### 3.3.2"
   ]
  },
  {
   "cell_type": "code",
   "execution_count": 32,
   "metadata": {},
   "outputs": [
    {
     "data": {
      "text/plain": [
       "[[0.250133320502488,\n",
       "  0.2508350073576879,\n",
       "  0.24871791787457045,\n",
       "  0.25031375426525365],\n",
       " [0.24852592341579124,\n",
       "  0.2501764107879682,\n",
       "  0.2514481631351287,\n",
       "  0.2498495026611119],\n",
       " [0.2487890285384606,\n",
       "  0.2512009551549923,\n",
       "  0.24939401345390294,\n",
       "  0.2506160028526441],\n",
       " [0.2501558927457909,\n",
       "  0.251131221719457,\n",
       "  0.2488048222822698,\n",
       "  0.2499080632524823]]"
      ]
     },
     "execution_count": 32,
     "metadata": {},
     "output_type": "execute_result"
    }
   ],
   "source": [
    "def estimTableProbas(dicoComptage):\n",
    "    table1 = [[0]*4,[0]*4,[0]*4,[0]*4]\n",
    "    total = 0\n",
    "    for k in dicoComptage.keys():\n",
    "        l1 = encode_sequence(k)\n",
    "        table1[l1[0]][l1[1]] += dicoComptage[k]\n",
    "        total += dicoComptage[k]\n",
    "    return [[ table1[i][j] / sum(table1[i]) for j in range(len(table1[i]))] for i in range(len(table1))]\n",
    "# ligne 0 : liste des probas que un A soit suivi par chaque lettre    \n",
    "# estimTableProbas(compte_occurences_mots([random.randint(0,3) for i in range(1000000)],2))"
   ]
  },
  {
   "cell_type": "markdown",
   "metadata": {},
   "source": [
    "### 3.3.3"
   ]
  },
  {
   "cell_type": "code",
   "execution_count": 26,
   "metadata": {},
   "outputs": [],
   "source": [
    "def simule_sequence_dinucl(longueur,tableProba):\n",
    "    # on peut utiliser uniquement la table car il est possible de retrouver les probas globales avec\n",
    "    probaInit = [sum([tableProba[i][j] for j in range(len(tableProba[i]))]) for i in range(len(tableProba))]\n",
    "    res = simule_sequence(1,probaInit)\n",
    "    for i in range(longueur-1):\n",
    "        res+= simule_sequence(1,tableProba[res[-1]])\n",
    "    return res\n",
    "\n",
    "# simule_sequence_dinucl(100,[[0,1,0,0],[0,0,1,0],[0,0,0,1],[1,0,0,0]])\n",
    "# genere 100 nucléotides dans l'ordre 0,1,2,3,0..."
   ]
  },
  {
   "cell_type": "markdown",
   "metadata": {},
   "source": [
    "### 3.3.4"
   ]
  },
  {
   "cell_type": "code",
   "execution_count": 13,
   "metadata": {},
   "outputs": [],
   "source": [
    "# Cette proba est : (probaGlobaleNucl0 * probaCondNucl1 * probaCondNucl2 ... )\n",
    "def calculProbaMot(sequence,mot):\n",
    "    table1 = estimTableProbas(compte_occurences_mots(sequence,2))\n",
    "    motCode = encode_sequence(mot)\n",
    "    proba = sum([table1[motCode[0]][j] / len(table1) for j in range(len(table1[motCode[0]]))])\n",
    "    for i in range(1,len(motCode)):\n",
    "        proba *= table1[motCode[i]][motCode[i-1]]\n",
    "    return proba"
   ]
  },
  {
   "cell_type": "markdown",
   "metadata": {},
   "source": [
    "### 3.3.5\n",
    "\n",
    "Le nombre d'occurences attendues pour ce mot se trouve de manière analogue au nombre d'occurences sans le modèle de dinucléotides : p[mot] * nombre d'emplacements possibles\n",
    "\n",
    "### 3.3.6\n",
    "Répondre ici\n",
    "\n",
    "### 3.3.7\n",
    "Répondre ici\n",
    "\n",
    "## 3.4 Probabilités de mots\n",
    "### 3.4.1\n",
    "On peut considérer que pour une séquence de longueur $l$ et un mot $w$ de longueur $k$, le mot $w$ a $\\frac{l}{k}$ emplacements possibles pour apparaître. On obtient alors une loi $B(p[w],\\frac{l}{k})$.\n",
    "\n",
    "### 3.4.2\n",
    "L'approximation peut être une loi de Poisson de paramètre : $\\lambda = p[w] * \\frac{l}{k} $\n",
    "\n",
    "Ainsi,$ p(w=n) = \\frac{\\lambda^k}{k!}e^{-\\lambda} $\n",
    "\n",
    "### 3.4.3\n",
    "Répondre ici\n",
    "\n",
    "### 3.4.4"
   ]
  },
  {
   "cell_type": "code",
   "execution_count": 14,
   "metadata": {},
   "outputs": [
    {
     "data": {
      "text/plain": [
       "'\\n\\n'"
      ]
     },
     "execution_count": 14,
     "metadata": {},
     "output_type": "execute_result"
    }
   ],
   "source": [
    "\"\"\"\n",
    "\n",
    "\"\"\""
   ]
  },
  {
   "cell_type": "code",
   "execution_count": 54,
   "metadata": {
    "scrolled": true
   },
   "outputs": [
    {
     "ename": "KeyboardInterrupt",
     "evalue": "",
     "output_type": "error",
     "traceback": [
      "\u001b[0;31m---------------------------------------------------------------------------\u001b[0m",
      "\u001b[0;31mKeyboardInterrupt\u001b[0m                         Traceback (most recent call last)",
      "\u001b[0;32m<ipython-input-54-aeb868f50bbd>\u001b[0m in \u001b[0;36m<module>\u001b[0;34m()\u001b[0m\n\u001b[1;32m     51\u001b[0m \u001b[0;32mimport\u001b[0m \u001b[0mtime\u001b[0m\u001b[0;34m\u001b[0m\u001b[0m\n\u001b[1;32m     52\u001b[0m \u001b[0mtemps\u001b[0m \u001b[0;34m=\u001b[0m \u001b[0mtime\u001b[0m\u001b[0;34m.\u001b[0m\u001b[0mtime\u001b[0m\u001b[0;34m(\u001b[0m\u001b[0;34m)\u001b[0m\u001b[0;34m\u001b[0m\u001b[0m\n\u001b[0;32m---> 53\u001b[0;31m \u001b[0mhisto2\u001b[0m\u001b[0;34m(\u001b[0m\u001b[0;34m[\u001b[0m\u001b[0;34m\"ATCTGC\"\u001b[0m\u001b[0;34m,\u001b[0m\u001b[0;34m\"ATATAT\"\u001b[0m\u001b[0;34m,\u001b[0m\u001b[0;34m\"TTTAAA\"\u001b[0m\u001b[0;34m,\u001b[0m\u001b[0;34m\"AAAAAA\"\u001b[0m\u001b[0;34m]\u001b[0m\u001b[0;34m,\u001b[0m\u001b[0;36m10\u001b[0m\u001b[0;34m)\u001b[0m\u001b[0;34m\u001b[0m\u001b[0m\n\u001b[0m\u001b[1;32m     54\u001b[0m \u001b[0mhisto\u001b[0m\u001b[0;34m(\u001b[0m\u001b[0;34m[\u001b[0m\u001b[0;34m\"ATCTGC\"\u001b[0m\u001b[0;34m,\u001b[0m\u001b[0;34m\"ATATAT\"\u001b[0m\u001b[0;34m,\u001b[0m\u001b[0;34m\"TTTAAA\"\u001b[0m\u001b[0;34m,\u001b[0m\u001b[0;34m\"AAAAAA\"\u001b[0m\u001b[0;34m]\u001b[0m\u001b[0;34m,\u001b[0m\u001b[0;36m10\u001b[0m\u001b[0;34m)\u001b[0m\u001b[0;34m\u001b[0m\u001b[0m\n\u001b[1;32m     55\u001b[0m \u001b[0mprint\u001b[0m\u001b[0;34m(\u001b[0m\u001b[0mtime\u001b[0m\u001b[0;34m.\u001b[0m\u001b[0mtime\u001b[0m\u001b[0;34m(\u001b[0m\u001b[0;34m)\u001b[0m \u001b[0;34m-\u001b[0m \u001b[0mtemps\u001b[0m\u001b[0;34m)\u001b[0m\u001b[0;34m\u001b[0m\u001b[0m\n",
      "\u001b[0;32m<ipython-input-54-aeb868f50bbd>\u001b[0m in \u001b[0;36mhisto2\u001b[0;34m(listeMots, n)\u001b[0m\n\u001b[1;32m     44\u001b[0m         \u001b[0mlisteHisto\u001b[0m \u001b[0;34m=\u001b[0m \u001b[0;34m[\u001b[0m\u001b[0;34m]\u001b[0m\u001b[0;34m\u001b[0m\u001b[0m\n\u001b[1;32m     45\u001b[0m         \u001b[0;32mfor\u001b[0m \u001b[0mj\u001b[0m \u001b[0;32min\u001b[0m \u001b[0mrange\u001b[0m\u001b[0;34m(\u001b[0m\u001b[0;36m1\u001b[0m\u001b[0;34m,\u001b[0m\u001b[0mn\u001b[0m\u001b[0;34m+\u001b[0m\u001b[0;36m1\u001b[0m\u001b[0;34m)\u001b[0m\u001b[0;34m:\u001b[0m\u001b[0;34m\u001b[0m\u001b[0m\n\u001b[0;32m---> 46\u001b[0;31m             \u001b[0mlisteHisto\u001b[0m\u001b[0;34m.\u001b[0m\u001b[0mappend\u001b[0m\u001b[0;34m(\u001b[0m\u001b[0mestimProbaEmpirique2\u001b[0m\u001b[0;34m(\u001b[0m\u001b[0;36m1000\u001b[0m\u001b[0;34m,\u001b[0m\u001b[0mi\u001b[0m\u001b[0;34m,\u001b[0m\u001b[0mj\u001b[0m\u001b[0;34m)\u001b[0m\u001b[0;34m)\u001b[0m\u001b[0;34m\u001b[0m\u001b[0m\n\u001b[0m\u001b[1;32m     47\u001b[0m         \u001b[0mplt\u001b[0m\u001b[0;34m.\u001b[0m\u001b[0mplot\u001b[0m\u001b[0;34m(\u001b[0m\u001b[0mrange\u001b[0m\u001b[0;34m(\u001b[0m\u001b[0;36m1\u001b[0m\u001b[0;34m,\u001b[0m\u001b[0mn\u001b[0m\u001b[0;34m+\u001b[0m\u001b[0;36m1\u001b[0m\u001b[0;34m)\u001b[0m\u001b[0;34m,\u001b[0m\u001b[0mlisteHisto\u001b[0m\u001b[0;34m)\u001b[0m\u001b[0;34m\u001b[0m\u001b[0m\n\u001b[1;32m     48\u001b[0m     \u001b[0mplt\u001b[0m\u001b[0;34m.\u001b[0m\u001b[0mtitle\u001b[0m\u001b[0;34m(\u001b[0m\u001b[0mlisteMots\u001b[0m\u001b[0;34m)\u001b[0m\u001b[0;34m\u001b[0m\u001b[0m\n",
      "\u001b[0;32m<ipython-input-54-aeb868f50bbd>\u001b[0m in \u001b[0;36mestimProbaEmpirique2\u001b[0;34m(longueur, mot, n)\u001b[0m\n\u001b[1;32m     32\u001b[0m         \u001b[0;32mfor\u001b[0m \u001b[0mi\u001b[0m \u001b[0;32min\u001b[0m \u001b[0mrange\u001b[0m\u001b[0;34m(\u001b[0m\u001b[0;36m4\u001b[0m\u001b[0;34m)\u001b[0m\u001b[0;34m:\u001b[0m\u001b[0;34m\u001b[0m\u001b[0m\n\u001b[1;32m     33\u001b[0m             \u001b[0mfreq\u001b[0m\u001b[0;34m[\u001b[0m\u001b[0mi\u001b[0m\u001b[0;34m]\u001b[0m \u001b[0;34m/=\u001b[0m \u001b[0msumfreq\u001b[0m\u001b[0;34m\u001b[0m\u001b[0m\n\u001b[0;32m---> 34\u001b[0;31m         \u001b[0mdico\u001b[0m \u001b[0;34m=\u001b[0m \u001b[0mcompte_occurences_mots2\u001b[0m\u001b[0;34m(\u001b[0m\u001b[0msimule_sequence\u001b[0m\u001b[0;34m(\u001b[0m\u001b[0mlongueur\u001b[0m\u001b[0;34m,\u001b[0m\u001b[0mfreq\u001b[0m\u001b[0;34m)\u001b[0m\u001b[0;34m,\u001b[0m\u001b[0mlen\u001b[0m\u001b[0;34m(\u001b[0m\u001b[0mmotConverti\u001b[0m\u001b[0;34m)\u001b[0m\u001b[0;34m)\u001b[0m\u001b[0;34m\u001b[0m\u001b[0m\n\u001b[0m\u001b[1;32m     35\u001b[0m         \u001b[0;32mif\u001b[0m \u001b[0;32mnot\u001b[0m \u001b[0mmot\u001b[0m \u001b[0;32min\u001b[0m \u001b[0mdico\u001b[0m\u001b[0;34m.\u001b[0m\u001b[0mkeys\u001b[0m\u001b[0;34m(\u001b[0m\u001b[0;34m)\u001b[0m\u001b[0;34m:\u001b[0m\u001b[0;34m\u001b[0m\u001b[0m\n\u001b[1;32m     36\u001b[0m             \u001b[0;32mcontinue\u001b[0m\u001b[0;34m\u001b[0m\u001b[0m\n",
      "\u001b[0;32m<ipython-input-54-aeb868f50bbd>\u001b[0m in \u001b[0;36mcompte_occurences_mots2\u001b[0;34m(sequence, taille)\u001b[0m\n\u001b[1;32m      3\u001b[0m     \u001b[0;32mfor\u001b[0m \u001b[0mi\u001b[0m \u001b[0;32min\u001b[0m \u001b[0mrange\u001b[0m\u001b[0;34m(\u001b[0m\u001b[0;36m0\u001b[0m\u001b[0;34m,\u001b[0m\u001b[0mlen\u001b[0m\u001b[0;34m(\u001b[0m\u001b[0msequence\u001b[0m\u001b[0;34m)\u001b[0m\u001b[0;34m,\u001b[0m\u001b[0mtaille\u001b[0m\u001b[0;34m)\u001b[0m\u001b[0;34m:\u001b[0m\u001b[0;34m\u001b[0m\u001b[0m\n\u001b[1;32m      4\u001b[0m         \u001b[0;31m# Pour chaque emplacement du début de la séquence au dernier emplacement disponible pour placer un mot de taille 'taille'\u001b[0m\u001b[0;34m\u001b[0m\u001b[0;34m\u001b[0m\u001b[0m\n\u001b[0;32m----> 5\u001b[0;31m         \u001b[0msousSeq\u001b[0m \u001b[0;34m=\u001b[0m \u001b[0mcode\u001b[0m\u001b[0;34m(\u001b[0m\u001b[0msequence\u001b[0m\u001b[0;34m[\u001b[0m\u001b[0mi\u001b[0m\u001b[0;34m:\u001b[0m\u001b[0mi\u001b[0m\u001b[0;34m+\u001b[0m\u001b[0mtaille\u001b[0m\u001b[0;34m]\u001b[0m\u001b[0;34m,\u001b[0m\u001b[0mtaille\u001b[0m\u001b[0;34m)\u001b[0m\u001b[0;34m\u001b[0m\u001b[0m\n\u001b[0m\u001b[1;32m      6\u001b[0m         \u001b[0;31m# On isole le mot sans sousSeq puis on actualise le dictionnaire\u001b[0m\u001b[0;34m\u001b[0m\u001b[0;34m\u001b[0m\u001b[0m\n\u001b[1;32m      7\u001b[0m         \u001b[0;32mif\u001b[0m \u001b[0;32mnot\u001b[0m \u001b[0msousSeq\u001b[0m \u001b[0;32min\u001b[0m \u001b[0mresTmp\u001b[0m\u001b[0;34m.\u001b[0m\u001b[0mkeys\u001b[0m\u001b[0;34m(\u001b[0m\u001b[0;34m)\u001b[0m\u001b[0;34m:\u001b[0m\u001b[0;34m\u001b[0m\u001b[0m\n",
      "\u001b[0;32m<ipython-input-3-cc7b4fcf841f>\u001b[0m in \u001b[0;36mcode\u001b[0;34m(m, k)\u001b[0m\n\u001b[1;32m      7\u001b[0m     \u001b[0mres\u001b[0m \u001b[0;34m=\u001b[0m \u001b[0;36m0\u001b[0m\u001b[0;34m\u001b[0m\u001b[0m\n\u001b[1;32m      8\u001b[0m     \u001b[0;32mfor\u001b[0m \u001b[0mlettre\u001b[0m \u001b[0;32min\u001b[0m \u001b[0mm\u001b[0m\u001b[0;34m:\u001b[0m\u001b[0;34m\u001b[0m\u001b[0m\n\u001b[0;32m----> 9\u001b[0;31m         \u001b[0mres\u001b[0m \u001b[0;34m+=\u001b[0m \u001b[0mlettre\u001b[0m \u001b[0;34m*\u001b[0m \u001b[0;34m(\u001b[0m\u001b[0;36m4\u001b[0m \u001b[0;34m**\u001b[0m \u001b[0mi\u001b[0m\u001b[0;34m)\u001b[0m\u001b[0;34m\u001b[0m\u001b[0m\n\u001b[0m\u001b[1;32m     10\u001b[0m         \u001b[0mi\u001b[0m \u001b[0;34m-=\u001b[0m \u001b[0;36m1\u001b[0m\u001b[0;34m\u001b[0m\u001b[0m\n\u001b[1;32m     11\u001b[0m     \u001b[0;32mreturn\u001b[0m \u001b[0mres\u001b[0m\u001b[0;34m\u001b[0m\u001b[0m\n",
      "\u001b[0;31mKeyboardInterrupt\u001b[0m: "
     ]
    },
    {
     "data": {
      "image/png": "[encoded data removed]",
      "text/plain": [
       "<Figure size 432x288 with 1 Axes>"
      ]
     },
     "metadata": {},
     "output_type": "display_data"
    }
   ],
   "source": [
    "def histo2(listeMots,n=10):\n",
    "    plt.subplot()\n",
    "    for i in listeMots:\n",
    "        listeHisto = []\n",
    "        for i in range(4):\n",
    "            tableProba.append([random.random() for i in range(4)])\n",
    "            tableProba[-1] = [tableProba[-1][j] / sum(tableProba[-1]) for j in range(4)]\n",
    "        probaMot = 1\n",
    "        for i in range(len(i)):\n",
    "            \n",
    "        for j in range(1,n+1):\n",
    "            tableProba = []\n",
    "            \n",
    "            listeHisto.append() \n",
    "        plt.plot(range(1,n+1),listeHisto)\n",
    "    plt.title(listeMots)\n",
    "    plt.show()\n",
    "    return\n",
    "\n",
    "calculProbaMot(simule_sequence_dinucl(longueur,tableProba))\n",
    "\n",
    "import time\n",
    "temps = time.time()\n",
    "histo2([\"ATCTGC\",\"ATATAT\",\"TTTAAA\",\"AAAAAA\"],10)\n",
    "histo([\"ATCTGC\",\"ATATAT\",\"TTTAAA\",\"AAAAAA\"],10)\n",
    "print(time.time() - temps)"
   ]
  },
  {
   "cell_type": "code",
   "execution_count": null,
   "metadata": {},
   "outputs": [],
   "source": []
  },
  {
   "cell_type": "code",
   "execution_count": null,
   "metadata": {},
   "outputs": [],
   "source": []
  },
  {
   "cell_type": "code",
   "execution_count": null,
   "metadata": {},
   "outputs": [],
   "source": []
  },
  {
   "cell_type": "code",
   "execution_count": null,
   "metadata": {},
   "outputs": [],
   "source": []
  }
 ],
 "metadata": {
  "kernelspec": {
   "display_name": "Python 3",
   "language": "python",
   "name": "python3"
  },
  "language_info": {
   "codemirror_mode": {
    "name": "ipython",
    "version": 3
   },
   "file_extension": ".py",
   "mimetype": "text/x-python",
   "name": "python",
   "nbconvert_exporter": "python",
   "pygments_lexer": "ipython3",
   "version": "3.5.3"
  }
 },
 "nbformat": 4,
 "nbformat_minor": 2
}
